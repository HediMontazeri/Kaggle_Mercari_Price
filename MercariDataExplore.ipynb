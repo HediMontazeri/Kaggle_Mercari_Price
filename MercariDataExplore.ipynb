{
 "cells": [
  {
   "cell_type": "markdown",
   "metadata": {},
   "source": [
    "Importing libraries"
   ]
  },
  {
   "cell_type": "code",
   "execution_count": 1,
   "metadata": {},
   "outputs": [],
   "source": [
    "import numpy as np\n",
    "import pandas as pd\n",
    "from sklearn import preprocessing\n",
    "import seaborn as sb\n",
    "import matplotlib.pyplot as plt\n",
    "import math\n",
    "import warnings\n",
    "warnings.filterwarnings(\"ignore\", category=FutureWarning)\n",
    "from collections import Counter\n",
    "import scipy.stats as ss"
   ]
  },
  {
   "cell_type": "code",
   "execution_count": 2,
   "metadata": {},
   "outputs": [],
   "source": [
    "df_train = pd.read_csv(\"/Users/hediehmontazeri/Downloads/Mercari Price suggestion/Mercari-python code/mercariData/train.tsv\", delimiter='\\t')\n",
    "df_test = pd.read_csv(\"/Users/hediehmontazeri/Downloads/Mercari Price suggestion/Mercari-python code/mercariData/test.tsv\", delimiter='\\t')"
   ]
  },
  {
   "cell_type": "code",
   "execution_count": 4,
   "metadata": {},
   "outputs": [
    {
     "data": {
      "text/html": [
       "<div>\n",
       "<style scoped>\n",
       "    .dataframe tbody tr th:only-of-type {\n",
       "        vertical-align: middle;\n",
       "    }\n",
       "\n",
       "    .dataframe tbody tr th {\n",
       "        vertical-align: top;\n",
       "    }\n",
       "\n",
       "    .dataframe thead th {\n",
       "        text-align: right;\n",
       "    }\n",
       "</style>\n",
       "<table border=\"1\" class=\"dataframe\">\n",
       "  <thead>\n",
       "    <tr style=\"text-align: right;\">\n",
       "      <th></th>\n",
       "      <th>train_id</th>\n",
       "      <th>name</th>\n",
       "      <th>item_condition_id</th>\n",
       "      <th>category_name</th>\n",
       "      <th>brand_name</th>\n",
       "      <th>price</th>\n",
       "      <th>shipping</th>\n",
       "      <th>item_description</th>\n",
       "    </tr>\n",
       "  </thead>\n",
       "  <tbody>\n",
       "    <tr>\n",
       "      <th>0</th>\n",
       "      <td>0</td>\n",
       "      <td>MLB Cincinnati Reds T Shirt Size XL</td>\n",
       "      <td>3</td>\n",
       "      <td>Men/Tops/T-shirts</td>\n",
       "      <td>NaN</td>\n",
       "      <td>10.0</td>\n",
       "      <td>1</td>\n",
       "      <td>No description yet</td>\n",
       "    </tr>\n",
       "    <tr>\n",
       "      <th>1</th>\n",
       "      <td>1</td>\n",
       "      <td>Razer BlackWidow Chroma Keyboard</td>\n",
       "      <td>3</td>\n",
       "      <td>Electronics/Computers &amp; Tablets/Components &amp; P...</td>\n",
       "      <td>Razer</td>\n",
       "      <td>52.0</td>\n",
       "      <td>0</td>\n",
       "      <td>This keyboard is in great condition and works ...</td>\n",
       "    </tr>\n",
       "    <tr>\n",
       "      <th>2</th>\n",
       "      <td>2</td>\n",
       "      <td>AVA-VIV Blouse</td>\n",
       "      <td>1</td>\n",
       "      <td>Women/Tops &amp; Blouses/Blouse</td>\n",
       "      <td>Target</td>\n",
       "      <td>10.0</td>\n",
       "      <td>1</td>\n",
       "      <td>Adorable top with a hint of lace and a key hol...</td>\n",
       "    </tr>\n",
       "    <tr>\n",
       "      <th>3</th>\n",
       "      <td>3</td>\n",
       "      <td>Leather Horse Statues</td>\n",
       "      <td>1</td>\n",
       "      <td>Home/Home Décor/Home Décor Accents</td>\n",
       "      <td>NaN</td>\n",
       "      <td>35.0</td>\n",
       "      <td>1</td>\n",
       "      <td>New with tags. Leather horses. Retail for [rm]...</td>\n",
       "    </tr>\n",
       "    <tr>\n",
       "      <th>4</th>\n",
       "      <td>4</td>\n",
       "      <td>24K GOLD plated rose</td>\n",
       "      <td>1</td>\n",
       "      <td>Women/Jewelry/Necklaces</td>\n",
       "      <td>NaN</td>\n",
       "      <td>44.0</td>\n",
       "      <td>0</td>\n",
       "      <td>Complete with certificate of authenticity</td>\n",
       "    </tr>\n",
       "  </tbody>\n",
       "</table>\n",
       "</div>"
      ],
      "text/plain": [
       "   train_id                                 name  item_condition_id  \\\n",
       "0         0  MLB Cincinnati Reds T Shirt Size XL                  3   \n",
       "1         1     Razer BlackWidow Chroma Keyboard                  3   \n",
       "2         2                       AVA-VIV Blouse                  1   \n",
       "3         3                Leather Horse Statues                  1   \n",
       "4         4                 24K GOLD plated rose                  1   \n",
       "\n",
       "                                       category_name brand_name  price  \\\n",
       "0                                  Men/Tops/T-shirts        NaN   10.0   \n",
       "1  Electronics/Computers & Tablets/Components & P...      Razer   52.0   \n",
       "2                        Women/Tops & Blouses/Blouse     Target   10.0   \n",
       "3                 Home/Home Décor/Home Décor Accents        NaN   35.0   \n",
       "4                            Women/Jewelry/Necklaces        NaN   44.0   \n",
       "\n",
       "   shipping                                   item_description  \n",
       "0         1                                 No description yet  \n",
       "1         0  This keyboard is in great condition and works ...  \n",
       "2         1  Adorable top with a hint of lace and a key hol...  \n",
       "3         1  New with tags. Leather horses. Retail for [rm]...  \n",
       "4         0          Complete with certificate of authenticity  "
      ]
     },
     "execution_count": 4,
     "metadata": {},
     "output_type": "execute_result"
    }
   ],
   "source": [
    "df_train.head()"
   ]
  },
  {
   "cell_type": "markdown",
   "metadata": {},
   "source": [
    "train_id and test_id don't have anything to do with predicting the price, so we drop them."
   ]
  },
  {
   "cell_type": "code",
   "execution_count": 3,
   "metadata": {},
   "outputs": [],
   "source": [
    "df_train=df_train.drop(['train_id'],1)\n",
    "df_test=df_test.drop(['test_id'],1)"
   ]
  },
  {
   "cell_type": "code",
   "execution_count": 4,
   "metadata": {},
   "outputs": [
    {
     "data": {
      "text/plain": [
       "(1482535, 7)"
      ]
     },
     "execution_count": 4,
     "metadata": {},
     "output_type": "execute_result"
    }
   ],
   "source": [
    "df_train.shape"
   ]
  },
  {
   "cell_type": "markdown",
   "metadata": {},
   "source": [
    "Chaning the categorical variables to numerics and add them to the DF"
   ]
  },
  {
   "cell_type": "code",
   "execution_count": 5,
   "metadata": {},
   "outputs": [],
   "source": [
    "trainData=df_train.copy()\n",
    "le = preprocessing.LabelEncoder()\n",
    "trainData['category_id']= le.fit_transform(df_train.category_name.astype(str))\n",
    "trainData['brand_id']= le.fit_transform(df_train.brand_name.astype(str))"
   ]
  },
  {
   "cell_type": "code",
   "execution_count": 6,
   "metadata": {},
   "outputs": [
    {
     "data": {
      "text/plain": [
       "Index(['name', 'item_condition_id', 'category_name', 'brand_name', 'price',\n",
       "       'shipping', 'item_description', 'category_id', 'brand_id'],\n",
       "      dtype='object')"
      ]
     },
     "execution_count": 6,
     "metadata": {},
     "output_type": "execute_result"
    }
   ],
   "source": [
    "trainData.columns"
   ]
  },
  {
   "cell_type": "code",
   "execution_count": 7,
   "metadata": {},
   "outputs": [
    {
     "data": {
      "text/plain": [
       "name                  object\n",
       "item_condition_id      int64\n",
       "category_name         object\n",
       "brand_name            object\n",
       "price                float64\n",
       "shipping               int64\n",
       "item_description      object\n",
       "category_id            int64\n",
       "brand_id               int64\n",
       "dtype: object"
      ]
     },
     "execution_count": 7,
     "metadata": {},
     "output_type": "execute_result"
    }
   ],
   "source": [
    "trainData.dtypes"
   ]
  },
  {
   "cell_type": "code",
   "execution_count": 10,
   "metadata": {},
   "outputs": [
    {
     "data": {
      "text/plain": [
       "name                      0\n",
       "item_condition_id         0\n",
       "category_name          6327\n",
       "brand_name           632682\n",
       "price                     0\n",
       "shipping                  0\n",
       "item_description          4\n",
       "category_id               0\n",
       "brand_id                  0\n",
       "dtype: int64"
      ]
     },
     "execution_count": 10,
     "metadata": {},
     "output_type": "execute_result"
    }
   ],
   "source": [
    "trainData.isnull().sum()"
   ]
  },
  {
   "cell_type": "markdown",
   "metadata": {},
   "source": [
    "many NAN values in category_name and brand name\n",
    "# need to solve this "
   ]
  },
  {
   "cell_type": "code",
   "execution_count": 29,
   "metadata": {},
   "outputs": [
    {
     "data": {
      "text/plain": [
       "4809"
      ]
     },
     "execution_count": 29,
     "metadata": {},
     "output_type": "execute_result"
    }
   ],
   "source": [
    "trainData.brand_name.nunique()"
   ]
  },
  {
   "cell_type": "markdown",
   "metadata": {},
   "source": [
    "What brands are popular"
   ]
  },
  {
   "cell_type": "code",
   "execution_count": 5,
   "metadata": {
    "scrolled": true
   },
   "outputs": [
    {
     "name": "stdout",
     "output_type": "stream",
     "text": [
      "PINK                 54088\n",
      "Nike                 54043\n",
      "Victoria's Secret    48036\n",
      "LuLaRoe              31024\n",
      "Apple                17322\n",
      "FOREVER 21           15186\n",
      "Nintendo             15007\n",
      "Lululemon            14558\n",
      "Michael Kors         13928\n",
      "American Eagle       13254\n",
      "Rae Dunn             12305\n",
      "Sephora              12172\n",
      "Coach                10463\n",
      "Disney               10360\n",
      "Bath & Body Works    10354\n",
      "Adidas               10202\n",
      "Name: brand_name, dtype: int64\n"
     ]
    }
   ],
   "source": [
    "BrandValueCount=df_train['brand_name'].value_counts()\n",
    "print(BrandValueCount[BrandValueCount > 10000])"
   ]
  },
  {
   "cell_type": "code",
   "execution_count": 13,
   "metadata": {},
   "outputs": [
    {
     "data": {
      "text/plain": [
       "1287"
      ]
     },
     "execution_count": 13,
     "metadata": {},
     "output_type": "execute_result"
    }
   ],
   "source": [
    "trainData.category_name.nunique()"
   ]
  },
  {
   "cell_type": "code",
   "execution_count": 14,
   "metadata": {},
   "outputs": [
    {
     "data": {
      "text/plain": [
       "0    819435\n",
       "1    663100\n",
       "Name: shipping, dtype: int64"
      ]
     },
     "execution_count": 14,
     "metadata": {},
     "output_type": "execute_result"
    }
   ],
   "source": [
    "trainData['shipping'].value_counts()"
   ]
  },
  {
   "cell_type": "code",
   "execution_count": 15,
   "metadata": {},
   "outputs": [
    {
     "data": {
      "text/plain": [
       "<matplotlib.axes._subplots.AxesSubplot at 0x1a4ff33c88>"
      ]
     },
     "execution_count": 15,
     "metadata": {},
     "output_type": "execute_result"
    },
    {
     "data": {
      "image/png": "[encoded data removed]",
      "text/plain": [
       "<Figure size 432x288 with 1 Axes>"
      ]
     },
     "metadata": {
      "needs_background": "light"
     },
     "output_type": "display_data"
    }
   ],
   "source": [
    "trainData['shipping'].hist(bins='auto')"
   ]
  },
  {
   "cell_type": "code",
   "execution_count": 16,
   "metadata": {},
   "outputs": [
    {
     "data": {
      "text/plain": [
       "<matplotlib.axes._subplots.AxesSubplot at 0x1a24250e10>"
      ]
     },
     "execution_count": 16,
     "metadata": {},
     "output_type": "execute_result"
    },
    {
     "data": {
      "image/png": "[encoded data removed]",
      "text/plain": [
       "<Figure size 432x288 with 1 Axes>"
      ]
     },
     "metadata": {
      "needs_background": "light"
     },
     "output_type": "display_data"
    }
   ],
   "source": [
    "trainData['item_condition_id'].hist(bins='auto')"
   ]
  },
  {
   "cell_type": "markdown",
   "metadata": {},
   "source": [
    "condition 4 and 5 happen rarely"
   ]
  },
  {
   "cell_type": "code",
   "execution_count": 17,
   "metadata": {},
   "outputs": [
    {
     "data": {
      "image/png": "[encoded data removed]",
      "text/plain": [
       "<Figure size 432x288 with 1 Axes>"
      ]
     },
     "metadata": {
      "needs_background": "light"
     },
     "output_type": "display_data"
    }
   ],
   "source": [
    "#Three ways to plot the histogram\n",
    "#sb.distplot(trainData['price']);\n",
    "sb.distplot(trainData['price'], kde=False, rug=True);"
   ]
  },
  {
   "cell_type": "code",
   "execution_count": 18,
   "metadata": {},
   "outputs": [
    {
     "data": {
      "text/plain": [
       "<matplotlib.axes._subplots.AxesSubplot at 0x1a244119e8>"
      ]
     },
     "execution_count": 18,
     "metadata": {},
     "output_type": "execute_result"
    },
    {
     "data": {
      "image/png": "[encoded data removed]",
      "text/plain": [
       "<Figure size 432x288 with 1 Axes>"
      ]
     },
     "metadata": {
      "needs_background": "light"
     },
     "output_type": "display_data"
    }
   ],
   "source": [
    "trainData['price'].hist()"
   ]
  },
  {
   "cell_type": "markdown",
   "metadata": {},
   "source": [
    "The price column is very skewed to the left. log can reduce that skewness and (+1) is to avoid log(0)"
   ]
  },
  {
   "cell_type": "code",
   "execution_count": 19,
   "metadata": {},
   "outputs": [],
   "source": [
    "trainData['logPrice']=np.log(trainData['price']+1)"
   ]
  },
  {
   "cell_type": "code",
   "execution_count": 20,
   "metadata": {},
   "outputs": [
    {
     "data": {
      "text/plain": [
       "<matplotlib.axes._subplots.AxesSubplot at 0x1a24da1f28>"
      ]
     },
     "execution_count": 20,
     "metadata": {},
     "output_type": "execute_result"
    },
    {
     "data": {
      "image/png": "[encoded data removed]",
      "text/plain": [
       "<Figure size 432x288 with 1 Axes>"
      ]
     },
     "metadata": {
      "needs_background": "light"
     },
     "output_type": "display_data"
    }
   ],
   "source": [
    "trainData['logPrice'].hist()"
   ]
  },
  {
   "cell_type": "code",
   "execution_count": 21,
   "metadata": {},
   "outputs": [
    {
     "data": {
      "text/plain": [
       "<seaborn.axisgrid.PairGrid at 0x1a24ddb668>"
      ]
     },
     "execution_count": 21,
     "metadata": {},
     "output_type": "execute_result"
    },
    {
     "data": {
      "image/png": "[encoded data removed]",
      "text/plain": [
       "<Figure size 410.625x360 with 6 Axes>"
      ]
     },
     "metadata": {
      "needs_background": "light"
     },
     "output_type": "display_data"
    }
   ],
   "source": [
    "sb.pairplot(trainData, vars=[\"logPrice\", \"item_condition_id\"], kind = 'reg', hue='shipping', diag_kind = 'kde')"
   ]
  },
  {
   "cell_type": "markdown",
   "metadata": {},
   "source": [
    "Lots of shipping payment in item_condition 1, when item condition changes to 3, it looks sender shippment is more popular than buyer shippment.\n",
    "Also as item_condition_id gets closer to 1, more items will be charged for shippemt. \n",
    "Items with 1 shippemt are slightly cheaper than shippment 1. "
   ]
  },
  {
   "cell_type": "code",
   "execution_count": 22,
   "metadata": {},
   "outputs": [
    {
     "data": {
      "text/plain": [
       "<matplotlib.axes._subplots.AxesSubplot at 0x1a3fcc5d30>"
      ]
     },
     "execution_count": 22,
     "metadata": {},
     "output_type": "execute_result"
    },
    {
     "data": {
      "image/png": "[encoded data removed]",
      "text/plain": [
       "<Figure size 432x288 with 1 Axes>"
      ]
     },
     "metadata": {
      "needs_background": "light"
     },
     "output_type": "display_data"
    }
   ],
   "source": [
    "trainData.plot(x='logPrice', y='item_condition_id', style='o' )"
   ]
  },
  {
   "cell_type": "code",
   "execution_count": 23,
   "metadata": {},
   "outputs": [],
   "source": [
    "#takes so long to plot\n",
    "#sb.kdeplot(trainData['logPrice'], trainData['item_condition_id'])"
   ]
  },
  {
   "cell_type": "code",
   "execution_count": 15,
   "metadata": {},
   "outputs": [
    {
     "data": {
      "text/plain": [
       "name                 1881\n",
       "item_condition_id    1881\n",
       "category_name        1880\n",
       "brand_name           1881\n",
       "price                1881\n",
       "shipping             1881\n",
       "item_description     1881\n",
       "dtype: int64"
      ]
     },
     "execution_count": 15,
     "metadata": {},
     "output_type": "execute_result"
    }
   ],
   "source": [
    "#get some queries to have a good understanding of the data\n",
    "df_train.query('price > 200 & brand_name == \"Apple\"').count()"
   ]
  },
  {
   "cell_type": "code",
   "execution_count": 25,
   "metadata": {},
   "outputs": [
    {
     "data": {
      "text/plain": [
       "<matplotlib.axes._subplots.AxesSubplot at 0x1a3f87c2e8>"
      ]
     },
     "execution_count": 25,
     "metadata": {},
     "output_type": "execute_result"
    },
    {
     "data": {
      "image/png": "[encoded data removed]",
      "text/plain": [
       "<Figure size 432x288 with 1 Axes>"
      ]
     },
     "metadata": {
      "needs_background": "light"
     },
     "output_type": "display_data"
    }
   ],
   "source": [
    "trainData.plot(x='logPrice', y='shipping',style='o' )"
   ]
  },
  {
   "cell_type": "code",
   "execution_count": 16,
   "metadata": {},
   "outputs": [
    {
     "data": {
      "text/html": [
       "<div>\n",
       "<style scoped>\n",
       "    .dataframe tbody tr th:only-of-type {\n",
       "        vertical-align: middle;\n",
       "    }\n",
       "\n",
       "    .dataframe tbody tr th {\n",
       "        vertical-align: top;\n",
       "    }\n",
       "\n",
       "    .dataframe thead th {\n",
       "        text-align: right;\n",
       "    }\n",
       "</style>\n",
       "<table border=\"1\" class=\"dataframe\">\n",
       "  <thead>\n",
       "    <tr style=\"text-align: right;\">\n",
       "      <th></th>\n",
       "      <th>item_condition_id</th>\n",
       "      <th>price</th>\n",
       "      <th>shipping</th>\n",
       "      <th>category_id</th>\n",
       "      <th>brand_id</th>\n",
       "    </tr>\n",
       "  </thead>\n",
       "  <tbody>\n",
       "    <tr>\n",
       "      <th>item_condition_id</th>\n",
       "      <td>1.000000</td>\n",
       "      <td>-0.000807</td>\n",
       "      <td>-0.191154</td>\n",
       "      <td>0.176928</td>\n",
       "      <td>-0.141512</td>\n",
       "    </tr>\n",
       "    <tr>\n",
       "      <th>price</th>\n",
       "      <td>-0.000807</td>\n",
       "      <td>1.000000</td>\n",
       "      <td>-0.097211</td>\n",
       "      <td>0.048377</td>\n",
       "      <td>-0.113608</td>\n",
       "    </tr>\n",
       "    <tr>\n",
       "      <th>shipping</th>\n",
       "      <td>-0.191154</td>\n",
       "      <td>-0.097211</td>\n",
       "      <td>1.000000</td>\n",
       "      <td>-0.143457</td>\n",
       "      <td>0.101608</td>\n",
       "    </tr>\n",
       "    <tr>\n",
       "      <th>category_id</th>\n",
       "      <td>0.176928</td>\n",
       "      <td>0.048377</td>\n",
       "      <td>-0.143457</td>\n",
       "      <td>1.000000</td>\n",
       "      <td>-0.123406</td>\n",
       "    </tr>\n",
       "    <tr>\n",
       "      <th>brand_id</th>\n",
       "      <td>-0.141512</td>\n",
       "      <td>-0.113608</td>\n",
       "      <td>0.101608</td>\n",
       "      <td>-0.123406</td>\n",
       "      <td>1.000000</td>\n",
       "    </tr>\n",
       "  </tbody>\n",
       "</table>\n",
       "</div>"
      ],
      "text/plain": [
       "                   item_condition_id     price  shipping  category_id  \\\n",
       "item_condition_id           1.000000 -0.000807 -0.191154     0.176928   \n",
       "price                      -0.000807  1.000000 -0.097211     0.048377   \n",
       "shipping                   -0.191154 -0.097211  1.000000    -0.143457   \n",
       "category_id                 0.176928  0.048377 -0.143457     1.000000   \n",
       "brand_id                   -0.141512 -0.113608  0.101608    -0.123406   \n",
       "\n",
       "                   brand_id  \n",
       "item_condition_id -0.141512  \n",
       "price             -0.113608  \n",
       "shipping           0.101608  \n",
       "category_id       -0.123406  \n",
       "brand_id           1.000000  "
      ]
     },
     "execution_count": 16,
     "metadata": {},
     "output_type": "execute_result"
    }
   ],
   "source": [
    "trainData.corr()"
   ]
  },
  {
   "cell_type": "markdown",
   "metadata": {},
   "source": [
    "^^^^^^\n",
    "Do not do this. df.corr() calculates Pearson correlation by default. This means when using LabelEncoder on the categorical columns, a higher importance is placed on categories encoded with a higher integer, which makes it totally useless for correlation analysis"
   ]
  },
  {
   "cell_type": "markdown",
   "metadata": {},
   "source": [
    "For finding the correlation between two categorical variables, we should use Cremer. \n",
    "In statistics, Cramér's V is a measure of association between two nominal variables, giving a value between 0 and +1 (inclusive). It is based on Pearson's chi-squared statistic. "
   ]
  },
  {
   "cell_type": "markdown",
   "metadata": {},
   "source": [
    "This part is to find uncertainty coeficient for categorical variable.\n",
    "\n",
    "Theilu -> two categorical variable, the result is [0,1]\n",
    "\n",
    "correlation ration -> categorical and numerical variables, the result is [0,1]\n",
    "\n",
    "Pearson -> two numrical variable, the result is [-1,1]\n",
    "\n",
    "\n"
   ]
  },
  {
   "cell_type": "code",
   "execution_count": 8,
   "metadata": {},
   "outputs": [],
   "source": [
    "def correlation_ratio(categories, measurements):\n",
    "    fcat, _ = pd.factorize(categories)\n",
    "    cat_num = np.max(fcat)+1\n",
    "    y_avg_array = np.zeros(cat_num)\n",
    "    n_array = np.zeros(cat_num)\n",
    "    for i in range(0,cat_num):\n",
    "        cat_measures = measurements[np.argwhere(fcat == i).flatten()]\n",
    "        n_array[i] = len(cat_measures)\n",
    "        y_avg_array[i] = np.average(cat_measures)\n",
    "    y_total_avg = np.sum(np.multiply(y_avg_array,n_array))/np.sum(n_array)\n",
    "    numerator = np.sum(np.multiply(n_array,np.power(np.subtract(y_avg_array,y_total_avg),2)))\n",
    "    denominator = np.sum(np.power(np.subtract(measurements,y_total_avg),2))\n",
    "    if numerator == 0:\n",
    "        eta = 0.0\n",
    "    else:\n",
    "        eta = numerator/denominator\n",
    "    return eta"
   ]
  },
  {
   "cell_type": "code",
   "execution_count": 9,
   "metadata": {},
   "outputs": [],
   "source": [
    "def conditional_entropy(x,y):\n",
    "    # entropy of x given y\n",
    "    y_counter = Counter(y)\n",
    "    xy_counter = Counter(list(zip(x,y)))\n",
    "    total_occurrences = sum(y_counter.values())\n",
    "    entropy = 0\n",
    "    for xy in xy_counter.keys():\n",
    "        p_xy = xy_counter[xy] / total_occurrences\n",
    "        p_y = y_counter[xy[1]] / total_occurrences\n",
    "        entropy += p_xy * math.log(p_y/p_xy)\n",
    "    return entropy\n",
    "\n",
    "#two categorical cariables\n",
    "def theils_u(x, y):\n",
    "    s_xy = conditional_entropy(x,y)\n",
    "    x_counter = Counter(x)\n",
    "    total_occurrences = sum(x_counter.values())\n",
    "    p_x = list(map(lambda n: n/total_occurrences, x_counter.values()))\n",
    "    s_x = ss.entropy(p_x)\n",
    "    if s_x == 0:\n",
    "        return 1\n",
    "    else:\n",
    "        return (s_x - s_xy) / s_x"
   ]
  },
  {
   "cell_type": "code",
   "execution_count": 9,
   "metadata": {
    "scrolled": true
   },
   "outputs": [
    {
     "data": {
      "text/plain": [
       "0.16766094100407536"
      ]
     },
     "execution_count": 9,
     "metadata": {},
     "output_type": "execute_result"
    }
   ],
   "source": [
    "correlation_ratio(trainData['category_name'],trainData['price'])"
   ]
  },
  {
   "cell_type": "code",
   "execution_count": 21,
   "metadata": {},
   "outputs": [
    {
     "data": {
      "text/plain": [
       "0.17902114755705992"
      ]
     },
     "execution_count": 21,
     "metadata": {},
     "output_type": "execute_result"
    }
   ],
   "source": [
    "correlation_ratio(trainData['brand_name'],trainData['price'])"
   ]
  },
  {
   "cell_type": "code",
   "execution_count": 10,
   "metadata": {},
   "outputs": [
    {
     "data": {
      "text/plain": [
       "0.4320126044553501"
      ]
     },
     "execution_count": 10,
     "metadata": {},
     "output_type": "execute_result"
    }
   ],
   "source": [
    "theils_u(trainData['brand_name'], trainData['category_name'])"
   ]
  },
  {
   "cell_type": "code",
   "execution_count": 10,
   "metadata": {},
   "outputs": [
    {
     "data": {
      "text/plain": [
       "0.9762910621801335"
      ]
     },
     "execution_count": 10,
     "metadata": {},
     "output_type": "execute_result"
    }
   ],
   "source": [
    "theils_u(trainData['category_name'],trainData['name'])"
   ]
  },
  {
   "cell_type": "code",
   "execution_count": 24,
   "metadata": {},
   "outputs": [
    {
     "name": "stdout",
     "output_type": "stream",
     "text": [
      "              category_name brand_name\n",
      "brand_name         0.432013          1\n",
      "category_name             1   0.298633\n"
     ]
    },
    {
     "data": {
      "image/png": "[encoded data removed]",
      "text/plain": [
       "<Figure size 144x144 with 2 Axes>"
      ]
     },
     "metadata": {},
     "output_type": "display_data"
    }
   ],
   "source": [
    "#applying theils on two columns\n",
    "theilu = pd.DataFrame(index=['brand_name', 'category_name'],columns=trainData.columns[2:4])\n",
    "columns = trainData.columns[2:4]\n",
    "for j in range(0,len(columns)):\n",
    "    for i in range(0,len(columns)):\n",
    "        u = theils_u(trainData[columns[i]],trainData[columns[j]])\n",
    "        theilu.loc[columns[i],columns[j]] = u\n",
    "print(theilu)\n",
    "theilu.fillna(value=np.nan,inplace=True)\n",
    "plt.figure(figsize=(2,2))\n",
    "sb.heatmap(theilu,annot=True,fmt='.2f')\n",
    "plt.show()"
   ]
  },
  {
   "cell_type": "code",
   "execution_count": 23,
   "metadata": {},
   "outputs": [
    {
     "name": "stdout",
     "output_type": "stream",
     "text": [
      "0.16766094100407536\n",
      "0.17902114755705992\n",
      "       category_name  brand_name\n",
      "price       0.167661    0.179021\n"
     ]
    },
    {
     "data": {
      "image/png": "[encoded data removed]",
      "text/plain": [
       "<Figure size 288x72 with 2 Axes>"
      ]
     },
     "metadata": {},
     "output_type": "display_data"
    }
   ],
   "source": [
    "CorrRatio = pd.DataFrame(index=['price'],columns=trainData.columns[4:4])\n",
    "columns = trainData.columns[2:4]\n",
    "for j in range(0,len(columns)):\n",
    "        u = correlation_ratio(trainData[columns[j]], trainData['price'])\n",
    "        u = u*1\n",
    "        print(u)\n",
    "        CorrRatio.loc[:,columns[j]] = u\n",
    "CorrRatio.fillna(value=np.nan,inplace=True)\n",
    "print(CorrRatio)\n",
    "plt.figure(figsize=(4,1))\n",
    "sb.heatmap(CorrRatio,annot=True,fmt='.2f')\n",
    "plt.show()"
   ]
  },
  {
   "cell_type": "code",
   "execution_count": 109,
   "metadata": {},
   "outputs": [
    {
     "name": "stdout",
     "output_type": "stream",
     "text": [
      "0.16766094100407536\n",
      "0.2040193956468266\n",
      "0.17902114755705992\n",
      "0.10424817645469078\n",
      "                   category_name  brand_name\n",
      "price                   0.167661    0.179021\n",
      "item_condition_id       0.204019    0.104248\n"
     ]
    },
    {
     "data": {
      "image/png": "[encoded data removed]",
      "text/plain": [
       "<Figure size 288x72 with 2 Axes>"
      ]
     },
     "metadata": {
      "needs_background": "light"
     },
     "output_type": "display_data"
    }
   ],
   "source": [
    "CorrRatio = pd.DataFrame(index=['price'])\n",
    "columns = trainData.columns[2:4]#columns labels\n",
    "rows = ['price','item_condition_id'] # rows\n",
    "          \n",
    "for j in range(0,len(columns)):\n",
    "    for i in range(0,len(rows)):\n",
    "        u = correlation_ratio(trainData[columns[j]], trainData[rows[i]])\n",
    "        u = u*1\n",
    "        print(u)\n",
    "        CorrRatio.loc[rows[i],columns[j]] = u\n",
    "CorrRatio.fillna(value=np.nan,inplace=True)\n",
    "print(CorrRatio)\n",
    "plt.figure(figsize=(4,1))\n",
    "sb.heatmap(CorrRatio,annot=True,fmt='.2f')\n",
    "plt.show()"
   ]
  },
  {
   "cell_type": "code",
   "execution_count": 111,
   "metadata": {},
   "outputs": [
    {
     "data": {
      "text/plain": [
       "0.10424817645469078"
      ]
     },
     "execution_count": 111,
     "metadata": {},
     "output_type": "execute_result"
    }
   ],
   "source": [
    "correlation_ratio(trainData['brand_name'], trainData['item_condition_id'])"
   ]
  },
  {
   "cell_type": "code",
   "execution_count": 30,
   "metadata": {},
   "outputs": [
    {
     "data": {
      "text/plain": [
       "-0.0008073728639846189"
      ]
     },
     "execution_count": 30,
     "metadata": {},
     "output_type": "execute_result"
    }
   ],
   "source": [
    "trainData['price'].corr(trainData['item_condition_id'])"
   ]
  },
  {
   "cell_type": "code",
   "execution_count": 10,
   "metadata": {},
   "outputs": [],
   "source": [
    "#changing the type so that categorical columns such as item_condition_id doesn't have an order\n",
    "trainData['item_condition_id']= trainData['item_condition_id'].astype('object')\n",
    "trainData['shipping']= trainData['shipping'].astype('object')\n",
    "trainData['category_id']= trainData['category_id'].astype('object')\n",
    "trainData['brand_id']= trainData['brand_id'].astype('object')\n"
   ]
  },
  {
   "cell_type": "code",
   "execution_count": 11,
   "metadata": {},
   "outputs": [
    {
     "data": {
      "text/plain": [
       "name                  object\n",
       "item_condition_id     object\n",
       "category_name         object\n",
       "brand_name            object\n",
       "price                float64\n",
       "shipping              object\n",
       "item_description      object\n",
       "category_id           object\n",
       "brand_id              object\n",
       "dtype: object"
      ]
     },
     "execution_count": 11,
     "metadata": {},
     "output_type": "execute_result"
    }
   ],
   "source": [
    "trainData.dtypes"
   ]
  },
  {
   "cell_type": "code",
   "execution_count": 58,
   "metadata": {},
   "outputs": [
    {
     "name": "stdout",
     "output_type": "stream",
     "text": [
      "theils 0 0\n",
      "item_condition_id item_condition_id\n",
      "1.0\n",
      "theils 1 0\n",
      "item_condition_id category_name\n",
      "-0.7680554919463214\n",
      "theils 2 0\n",
      "item_condition_id brand_name\n",
      "-0.8422323511275907\n",
      "corr 3 0\n",
      "item_condition_id price\n",
      "-0.999497979741189\n",
      "theils 4 0\n",
      "item_condition_id shipping\n",
      "-0.963800697909237\n",
      "theils 5 0\n",
      "item_condition_id category_id\n",
      "-0.7680554919463214\n",
      "theils 6 0\n",
      "item_condition_id brand_id\n",
      "-0.8422323511275907\n",
      "theils 0 1\n",
      "category_name item_condition_id\n",
      "-0.9500628884395318\n",
      "theils 1 1\n",
      "category_name category_name\n",
      "1.0\n",
      "theils 2 1\n",
      "category_name brand_name\n",
      "-0.40273439133072486\n",
      "corr 3 1\n",
      "category_name price\n",
      "-0.6646781179918493\n",
      "theils 4 1\n",
      "category_name shipping\n",
      "-0.9800960005320734\n",
      "theils 5 1\n",
      "category_name category_id\n",
      "1.0\n",
      "theils 6 1\n",
      "category_name brand_id\n",
      "-0.40273439133072486\n",
      "theils 0 2\n",
      "brand_name item_condition_id\n",
      "-0.9508621462195349\n",
      "theils 1 2\n",
      "brand_name category_name\n",
      "-0.13597479108929977\n",
      "theils 2 2\n",
      "brand_name brand_name\n",
      "1.0\n",
      "corr 3 2\n",
      "brand_name price\n",
      "-0.6419577048858802\n",
      "theils 4 2\n",
      "brand_name shipping\n",
      "-0.9821720600266811\n",
      "theils 5 2\n",
      "brand_name category_id\n",
      "-0.13597479108929977\n",
      "theils 6 2\n",
      "brand_name brand_id\n",
      "1.0\n",
      "corr 0 3\n",
      "price item_condition_id\n",
      "-0.999497979741189\n",
      "corr 1 3\n",
      "price category_name\n",
      "-0.6646781179918493\n",
      "corr 2 3\n",
      "price brand_name\n",
      "-0.6419577048858802\n",
      "pearson 3 3\n",
      "price price\n",
      "1.0\n",
      "corr 4 3\n",
      "price shipping\n",
      "-0.9810999816309066\n",
      "corr 5 3\n",
      "price category_id\n",
      "-0.664667728557106\n",
      "corr 6 3\n",
      "price brand_id\n",
      "-0.6063657428563707\n",
      "theils 0 4\n",
      "shipping item_condition_id\n",
      "-0.9387814666701578\n",
      "theils 1 4\n",
      "shipping category_name\n",
      "-0.8436550889465043\n",
      "theils 2 4\n",
      "shipping brand_name\n",
      "-0.9031977044899588\n",
      "corr 3 4\n",
      "shipping price\n",
      "-0.9810999816309066\n",
      "theils 4 4\n",
      "shipping shipping\n",
      "1.0\n",
      "theils 5 4\n",
      "shipping category_id\n",
      "-0.8436550889465043\n",
      "theils 6 4\n",
      "shipping brand_id\n",
      "-0.9031977044899588\n",
      "theils 0 5\n",
      "category_id item_condition_id\n",
      "-0.9500628884395318\n",
      "theils 1 5\n",
      "category_id category_name\n",
      "1.0\n",
      "theils 2 5\n",
      "category_id brand_name\n",
      "-0.40273439133072486\n",
      "corr 3 5\n",
      "category_id price\n",
      "-0.664667728557106\n",
      "theils 4 5\n",
      "category_id shipping\n",
      "-0.9800960005320734\n",
      "theils 5 5\n",
      "category_id category_id\n",
      "1.0\n",
      "theils 6 5\n",
      "category_id brand_id\n",
      "-0.40273439133072486\n",
      "theils 0 6\n",
      "brand_id item_condition_id\n",
      "-0.9508621462195349\n",
      "theils 1 6\n",
      "brand_id category_name\n",
      "-0.13597479108929977\n",
      "theils 2 6\n",
      "brand_id brand_name\n",
      "1.0\n",
      "corr 3 6\n",
      "brand_id price\n",
      "-0.6063657428563707\n",
      "theils 4 6\n",
      "brand_id shipping\n",
      "-0.9821720600266811\n",
      "theils 5 6\n",
      "brand_id category_id\n",
      "-0.13597479108929977\n",
      "theils 6 6\n",
      "brand_id brand_id\n",
      "1.0\n",
      "                   item_condition_id  category_name  brand_name     price  \\\n",
      "item_condition_id           1.000000      -0.950063   -0.950862 -0.999498   \n",
      "category_name              -0.768055       1.000000   -0.135975 -0.664678   \n",
      "brand_name                 -0.842232      -0.402734    1.000000 -0.641958   \n",
      "price                      -0.999498      -0.664678   -0.641958  1.000000   \n",
      "shipping                   -0.963801      -0.980096   -0.982172 -0.981100   \n",
      "category_id                -0.768055       1.000000   -0.135975 -0.664668   \n",
      "brand_id                   -0.842232      -0.402734    1.000000 -0.606366   \n",
      "\n",
      "                   shipping  category_id  brand_id  \n",
      "item_condition_id -0.938781    -0.950063 -0.950862  \n",
      "category_name     -0.843655     1.000000 -0.135975  \n",
      "brand_name        -0.903198    -0.402734  1.000000  \n",
      "price             -0.981100    -0.664668 -0.606366  \n",
      "shipping           1.000000    -0.980096 -0.982172  \n",
      "category_id       -0.843655     1.000000 -0.135975  \n",
      "brand_id          -0.903198    -0.402734  1.000000  \n"
     ]
    }
   ],
   "source": [
    "trainDataC= trainData.drop(['item_description'],axis= 1)\n",
    "relations = pd.DataFrame()\n",
    "columns = trainDataC.columns[1:len(trainDataC.columns)]#columns labels\n",
    "rows = trainDataC.columns[1:len(trainDataC.columns)] # rows\n",
    "          \n",
    "for j in range(0,len(columns)):\n",
    "    for i in range(0,len(rows)):\n",
    "        if (trainDataC[columns[j]].dtypes == 'float64'  and trainDataC[rows[i]].dtypes == 'float64'):\n",
    "            print('pearson', i, j)\n",
    "            print(trainDataC[columns[j]].name, trainDataC[rows[i]].name)\n",
    "            u = trainDataC[columns[j]].corr( trainDataC[rows[i]])\n",
    "            u = u*1\n",
    "            print(u)\n",
    "            relations.loc[rows[i],columns[j]] = u\n",
    "        elif  (trainDataC[rows[i]].dtypes == 'O' and trainDataC[columns[j]].dtypes == 'float64'):\n",
    "            print('corr', i,j)\n",
    "            print(trainDataC[columns[j]].name, trainDataC[rows[i]].name)\n",
    "            u = correlation_ratio(trainDataC[rows[i]], trainDataC[columns[j]])\n",
    "            u = u*1\n",
    "            u=2*u-1\n",
    "            print(u)\n",
    "            relations.loc[rows[i],columns[j]] = u\n",
    "        elif (trainDataC[columns[j]].dtypes == 'O' and trainDataC[rows[i]].dtypes == 'float64' ):\n",
    "            print('corr', i,j)\n",
    "            print(trainDataC[columns[j]].name, trainDataC[rows[i]].name)\n",
    "            u = correlation_ratio(trainDataC[columns[j]], trainDataC[rows[i]])\n",
    "            u = u*1\n",
    "            u=2*u-1\n",
    "            print(u)\n",
    "            relations.loc[rows[i],columns[j]] = u\n",
    "        elif (trainDataC[columns[j]].dtypes == 'O' and trainDataC[rows[i]].dtypes == 'O'):\n",
    "            print('theils', i, j)\n",
    "            print(trainDataC[columns[j]].name, trainDataC[rows[i]].name)\n",
    "            u = theils_u(trainDataC[columns[j]], trainDataC[rows[i]])\n",
    "            u = u*1\n",
    "            u=2*u-1\n",
    "            print(u)\n",
    "            relations.loc[rows[i],columns[j]] = u\n",
    "relations.fillna(value=np.nan,inplace=True)\n",
    "print(relations)\n",
    "# plt.figure(figsize=(4,1))\n",
    "# sb.heatmap(CorrRatio,annot=True,fmt='.2f')\n",
    "# plt.show()"
   ]
  },
  {
   "cell_type": "code",
   "execution_count": 63,
   "metadata": {},
   "outputs": [
    {
     "data": {
      "image/png": "[encoded data removed]",
      "text/plain": [
       "<Figure size 864x864 with 2 Axes>"
      ]
     },
     "metadata": {},
     "output_type": "display_data"
    }
   ],
   "source": [
    "plt.figure(figsize=(12,12))\n",
    "sb.heatmap(relations,annot=True,fmt='.2f')\n",
    "plt.show()"
   ]
  },
  {
   "cell_type": "code",
   "execution_count": 13,
   "metadata": {},
   "outputs": [
    {
     "data": {
      "text/plain": [
       "9"
      ]
     },
     "execution_count": 13,
     "metadata": {},
     "output_type": "execute_result"
    }
   ],
   "source": [
    "len(trainData.columns)"
   ]
  },
  {
   "cell_type": "code",
   "execution_count": 30,
   "metadata": {},
   "outputs": [
    {
     "data": {
      "text/plain": [
       "Index(['item_condition_id', 'category_name', 'brand_name', 'price', 'shipping',\n",
       "       'item_description', 'category_id', 'brand_id'],\n",
       "      dtype='object')"
      ]
     },
     "execution_count": 30,
     "metadata": {},
     "output_type": "execute_result"
    }
   ],
   "source": [
    "columns"
   ]
  },
  {
   "cell_type": "code",
   "execution_count": 28,
   "metadata": {},
   "outputs": [
    {
     "data": {
      "text/plain": [
       "name                  object\n",
       "item_condition_id     object\n",
       "category_name         object\n",
       "brand_name            object\n",
       "price                float64\n",
       "shipping              object\n",
       "item_description      object\n",
       "category_id           object\n",
       "brand_id              object\n",
       "dtype: object"
      ]
     },
     "execution_count": 28,
     "metadata": {},
     "output_type": "execute_result"
    }
   ],
   "source": [
    "trainData.dtypes\n"
   ]
  },
  {
   "cell_type": "code",
   "execution_count": null,
   "metadata": {},
   "outputs": [],
   "source": []
  }
 ],
 "metadata": {
  "kernelspec": {
   "display_name": "Python 3",
   "language": "python",
   "name": "python3"
  },
  "language_info": {
   "codemirror_mode": {
    "name": "ipython",
    "version": 3
   },
   "file_extension": ".py",
   "mimetype": "text/x-python",
   "name": "python",
   "nbconvert_exporter": "python",
   "pygments_lexer": "ipython3",
   "version": "3.6.5"
  }
 },
 "nbformat": 4,
 "nbformat_minor": 2
}
