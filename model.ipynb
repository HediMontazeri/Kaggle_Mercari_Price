{
 "cells": [
  {
   "cell_type": "code",
   "execution_count": 55,
   "metadata": {},
   "outputs": [],
   "source": [
    "import numpy as np\n",
    "import pandas as pd\n",
    "from sklearn import preprocessing\n",
    "import seaborn as sb\n",
    "from sklearn.metrics import mean_squared_error\n",
    "import matplotlib.pyplot as plt\n",
    "import math\n",
    "from sklearn.linear_model import LinearRegression\n",
    "import warnings\n",
    "warnings.filterwarnings(\"ignore\", category=FutureWarning)\n",
    "from collections import Counter\n",
    "import scipy.stats as ss\n",
    "from tensorflow import keras\n",
    "import tensorflow as tf\n",
    "from sklearn import preprocessing,model_selection\n"
   ]
  },
  {
   "cell_type": "code",
   "execution_count": 130,
   "metadata": {},
   "outputs": [],
   "source": [
    "df_train = pd.read_csv(\"train.tsv\", delimiter='\\t')\n",
    "df_test = pd.read_csv(\"test.tsv\", delimiter='\\t')"
   ]
  },
  {
   "cell_type": "code",
   "execution_count": 131,
   "metadata": {},
   "outputs": [],
   "source": [
    "df_train=df_train.drop(['train_id'],1)\n",
    "df_test=df_test.drop(['test_id'],1)"
   ]
  },
  {
   "cell_type": "code",
   "execution_count": 132,
   "metadata": {},
   "outputs": [],
   "source": [
    "df_train['category1'], df_train['category2'],df_train['category3'] = df_train['category_name'].str.split('/',2).str"
   ]
  },
  {
   "cell_type": "code",
   "execution_count": 133,
   "metadata": {},
   "outputs": [],
   "source": [
    "trainData=df_train.copy()\n",
    "le = preprocessing.LabelEncoder()\n",
    "trainData['category_id']= le.fit_transform(df_train.category_name.astype(str))\n",
    "trainData['brand_id']= le.fit_transform(df_train.brand_name.astype(str))\n",
    "trainData['category1Id']= le.fit_transform(df_train.category1.astype(str))\n",
    "trainData['category2Id']= le.fit_transform(df_train.category2.astype(str))\n",
    "trainData['category3Id']= le.fit_transform(df_train.category3.astype(str))"
   ]
  },
  {
   "cell_type": "code",
   "execution_count": 6,
   "metadata": {},
   "outputs": [],
   "source": [
    "#trainData['logPrice']=np.log(trainData['price']+1)"
   ]
  },
  {
   "cell_type": "code",
   "execution_count": 134,
   "metadata": {},
   "outputs": [],
   "source": [
    "X = trainData[['item_condition_id', 'shipping', 'category_id', 'brand_id', 'category1Id','category2Id','category3Id']]\n",
    "y = trainData['price']\n",
    "X_train, X_test, y_train, y_test = model_selection.train_test_split(X,y,test_size= 0.2)"
   ]
  },
  {
   "cell_type": "code",
   "execution_count": 135,
   "metadata": {},
   "outputs": [],
   "source": [
    "min_max_scaler = preprocessing.MinMaxScaler()\n",
    "\n",
    "np_scaled = min_max_scaler.fit_transform(X_train.astype(float))\n",
    "X_train_normalized = pd.DataFrame(np_scaled)\n",
    "\n",
    "np_scaled = min_max_scaler.fit_transform(X_test.astype(float))\n",
    "X_test_normalized = pd.DataFrame(np_scaled)"
   ]
  },
  {
   "cell_type": "code",
   "execution_count": 136,
   "metadata": {},
   "outputs": [],
   "source": [
    "y_train = np.log1p(y_train)\n",
    "y_test = np.log1p(y_test)"
   ]
  },
  {
   "cell_type": "code",
   "execution_count": 137,
   "metadata": {},
   "outputs": [],
   "source": [
    "clfReg= LinearRegression().fit(X_train, y_train)"
   ]
  },
  {
   "cell_type": "code",
   "execution_count": 138,
   "metadata": {},
   "outputs": [
    {
     "name": "stdout",
     "output_type": "stream",
     "text": [
      "Logistic Regression Accuracy 0.08439888312160038\n"
     ]
    }
   ],
   "source": [
    "#returns R2\n",
    "print('Logistic Regression Accuracy',clfReg.score(X_test, y_test))"
   ]
  },
  {
   "cell_type": "code",
   "execution_count": 139,
   "metadata": {},
   "outputs": [
    {
     "data": {
      "text/plain": [
       "item_condition_id    int64\n",
       "shipping             int64\n",
       "category_id          int64\n",
       "brand_id             int64\n",
       "category1Id          int64\n",
       "category2Id          int64\n",
       "category3Id          int64\n",
       "dtype: object"
      ]
     },
     "execution_count": 139,
     "metadata": {},
     "output_type": "execute_result"
    }
   ],
   "source": [
    "X_train.dtypes"
   ]
  },
  {
   "cell_type": "code",
   "execution_count": 140,
   "metadata": {},
   "outputs": [],
   "source": [
    "X_train_normalized = X_train_normalized.as_matrix()\n",
    "y_train = y_train.as_matrix()\n",
    "\n",
    "X_test_normalized = X_test_normalized.as_matrix()\n",
    "y_test = y_test.as_matrix()"
   ]
  },
  {
   "cell_type": "code",
   "execution_count": 141,
   "metadata": {},
   "outputs": [
    {
     "name": "stdout",
     "output_type": "stream",
     "text": [
      "Epoch 1/10\n",
      "1186028/1186028 [==============================] - 74s 62us/step - loss: 8.4866\n",
      "Epoch 2/10\n",
      "1186028/1186028 [==============================] - 73s 61us/step - loss: 2.5114\n",
      "Epoch 3/10\n",
      "1186028/1186028 [==============================] - 69s 58us/step - loss: 0.9972\n",
      "Epoch 4/10\n",
      "1186028/1186028 [==============================] - 73s 61us/step - loss: 0.9338\n",
      "Epoch 5/10\n",
      "1186028/1186028 [==============================] - 75s 63us/step - loss: 0.8817\n",
      "Epoch 6/10\n",
      "1186028/1186028 [==============================] - 69s 58us/step - loss: 0.8369\n",
      "Epoch 7/10\n",
      "1186028/1186028 [==============================] - 71s 60us/step - loss: 0.7975\n",
      "Epoch 8/10\n",
      "1186028/1186028 [==============================] - 73s 62us/step - loss: 0.7633\n",
      "Epoch 9/10\n",
      "1186028/1186028 [==============================] - 72s 60us/step - loss: 0.7308\n",
      "Epoch 10/10\n",
      "1186028/1186028 [==============================] - 72s 61us/step - loss: 0.7003\n"
     ]
    },
    {
     "data": {
      "text/plain": [
       "<tensorflow.python.keras.callbacks.History at 0x1a4d98e320>"
      ]
     },
     "execution_count": 141,
     "metadata": {},
     "output_type": "execute_result"
    }
   ],
   "source": [
    "#buidling NN\n",
    "model = keras.Sequential([\n",
    "    keras.layers.Dense(8, activation=tf.nn.relu),\n",
    "    keras.layers.Dense(1024, activation=tf.nn.relu),\n",
    "    keras.layers.Dense(512, activation=tf.nn.relu),\n",
    "    keras.layers.Dense(256),\n",
    "    keras.layers.Dense(128),\n",
    "    keras.layers.Dense(64),\n",
    "    keras.layers.Dense(1)\n",
    "    ])\n",
    "\n",
    "model.compile(optimizer=tf.train.AdadeltaOptimizer(),\n",
    "              loss ='mean_squared_error',\n",
    "              )\n",
    "model.fit(X_train_normalized, y_train, batch_size= 2000, epochs=10)"
   ]
  },
  {
   "cell_type": "code",
   "execution_count": 144,
   "metadata": {},
   "outputs": [
    {
     "name": "stdout",
     "output_type": "stream",
     "text": [
      "296507/296507 [==============================] - 47s 159us/step\n"
     ]
    }
   ],
   "source": [
    "test_loss = model.evaluate(X_test_normalized, y_test)"
   ]
  },
  {
   "cell_type": "code",
   "execution_count": 145,
   "metadata": {},
   "outputs": [
    {
     "data": {
      "text/plain": [
       "0.683937259670162"
      ]
     },
     "execution_count": 145,
     "metadata": {},
     "output_type": "execute_result"
    }
   ],
   "source": [
    "test_loss"
   ]
  },
  {
   "cell_type": "code",
   "execution_count": 148,
   "metadata": {},
   "outputs": [],
   "source": [
    "y_predict=model.predict(X_test_normalized)"
   ]
  },
  {
   "cell_type": "code",
   "execution_count": 149,
   "metadata": {},
   "outputs": [
    {
     "data": {
      "text/plain": [
       "array([[3.3699567],\n",
       "       [3.5903122],\n",
       "       [3.3631659],\n",
       "       ...,\n",
       "       [3.2445807],\n",
       "       [3.4302447],\n",
       "       [3.4261034]], dtype=float32)"
      ]
     },
     "execution_count": 149,
     "metadata": {},
     "output_type": "execute_result"
    }
   ],
   "source": [
    "y_predict"
   ]
  },
  {
   "cell_type": "code",
   "execution_count": 154,
   "metadata": {},
   "outputs": [],
   "source": [
    "y_predict =np.expm1(y_predict)"
   ]
  },
  {
   "cell_type": "code",
   "execution_count": 155,
   "metadata": {},
   "outputs": [],
   "source": [
    "y_test = np.expm1(y_test)"
   ]
  },
  {
   "cell_type": "code",
   "execution_count": 156,
   "metadata": {},
   "outputs": [],
   "source": [
    "mse = mean_squared_error(y_predict, y_test)"
   ]
  },
  {
   "cell_type": "code",
   "execution_count": 157,
   "metadata": {},
   "outputs": [
    {
     "data": {
      "text/plain": [
       "1526.1518565810866"
      ]
     },
     "execution_count": 157,
     "metadata": {},
     "output_type": "execute_result"
    }
   ],
   "source": [
    "mse"
   ]
  },
  {
   "cell_type": "code",
   "execution_count": null,
   "metadata": {},
   "outputs": [],
   "source": []
  }
 ],
 "metadata": {
  "kernelspec": {
   "display_name": "Python 3",
   "language": "python",
   "name": "python3"
  },
  "language_info": {
   "codemirror_mode": {
    "name": "ipython",
    "version": 3
   },
   "file_extension": ".py",
   "mimetype": "text/x-python",
   "name": "python",
   "nbconvert_exporter": "python",
   "pygments_lexer": "ipython3",
   "version": "3.6.6"
  }
 },
 "nbformat": 4,
 "nbformat_minor": 2
}
