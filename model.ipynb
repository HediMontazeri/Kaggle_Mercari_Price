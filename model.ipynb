{
 "cells": [
  {
   "cell_type": "code",
   "execution_count": 55,
   "metadata": {},
   "outputs": [],
   "source": [
    "import numpy as np\n",
    "import pandas as pd\n",
    "from sklearn import preprocessing\n",
    "import seaborn as sb\n",
    "import matplotlib.pyplot as plt\n",
    "import math\n",
    "from sklearn.linear_model import LinearRegression\n",
    "import warnings\n",
    "warnings.filterwarnings(\"ignore\", category=FutureWarning)\n",
    "from collections import Counter\n",
    "import scipy.stats as ss\n",
    "from tensorflow import keras\n",
    "import tensorflow as tf\n",
    "from sklearn import preprocessing, neighbors, model_selection\n"
   ]
  },
  {
   "cell_type": "code",
   "execution_count": 2,
   "metadata": {},
   "outputs": [],
   "source": [
    "df_train = pd.read_csv(\"train.tsv\", delimiter='\\t')\n",
    "df_test = pd.read_csv(\"test.tsv\", delimiter='\\t')"
   ]
  },
  {
   "cell_type": "code",
   "execution_count": 3,
   "metadata": {},
   "outputs": [],
   "source": [
    "df_train=df_train.drop(['train_id'],1)\n",
    "df_test=df_test.drop(['test_id'],1)"
   ]
  },
  {
   "cell_type": "code",
   "execution_count": 4,
   "metadata": {},
   "outputs": [],
   "source": [
    "df_train['category1'], df_train['category2'],df_train['category3'] = df_train['category_name'].str.split('/',2).str"
   ]
  },
  {
   "cell_type": "code",
   "execution_count": 5,
   "metadata": {},
   "outputs": [],
   "source": [
    "trainData=df_train.copy()\n",
    "le = preprocessing.LabelEncoder()\n",
    "trainData['category_id']= le.fit_transform(df_train.category_name.astype(str))\n",
    "trainData['brand_id']= le.fit_transform(df_train.brand_name.astype(str))\n",
    "trainData['category1Id']= le.fit_transform(df_train.category1.astype(str))\n",
    "trainData['category2Id']= le.fit_transform(df_train.category2.astype(str))\n",
    "trainData['category3Id']= le.fit_transform(df_train.category3.astype(str))"
   ]
  },
  {
   "cell_type": "code",
   "execution_count": 6,
   "metadata": {},
   "outputs": [],
   "source": [
    "trainData['logPrice']=np.log(trainData['price']+1)"
   ]
  },
  {
   "cell_type": "code",
   "execution_count": 40,
   "metadata": {},
   "outputs": [],
   "source": [
    "X = trainData[['item_condition_id', 'shipping', 'category_id', 'brand_id', 'category1Id','category2Id','category3Id']]\n",
    "y = trainData['price']\n",
    "X_train, X_test, y_train, y_test = model_selection.train_test_split(X,y,test_size= 0.2)"
   ]
  },
  {
   "cell_type": "code",
   "execution_count": 43,
   "metadata": {},
   "outputs": [],
   "source": [
    "min_max_scaler = preprocessing.MinMaxScaler()\n",
    "\n",
    "np_scaled = min_max_scaler.fit_transform(X_train.astype(float))\n",
    "X_train_normalized = pd.DataFrame(np_scaled)\n",
    "\n",
    "np_scaled = min_max_scaler.fit_transform(X_test.astype(float))\n",
    "X_test_normalized = pd.DataFrame(np_scaled)"
   ]
  },
  {
   "cell_type": "code",
   "execution_count": 49,
   "metadata": {},
   "outputs": [],
   "source": [
    "clfReg= LinearRegression().fit(X_train, y_train)"
   ]
  },
  {
   "cell_type": "code",
   "execution_count": 51,
   "metadata": {},
   "outputs": [
    {
     "name": "stdout",
     "output_type": "stream",
     "text": [
      "Logistic Regression Accuracy 0.025517703076345488\n"
     ]
    }
   ],
   "source": [
    "#returns R2\n",
    "print('Logistic Regression Accuracy',clfReg.score(X_test, y_test))"
   ]
  },
  {
   "cell_type": "code",
   "execution_count": 57,
   "metadata": {},
   "outputs": [
    {
     "data": {
      "text/plain": [
       "item_condition_id    int64\n",
       "shipping             int64\n",
       "category_id          int64\n",
       "brand_id             int64\n",
       "category1Id          int64\n",
       "category2Id          int64\n",
       "category3Id          int64\n",
       "dtype: object"
      ]
     },
     "execution_count": 57,
     "metadata": {},
     "output_type": "execute_result"
    }
   ],
   "source": [
    "X_train.dtypes"
   ]
  },
  {
   "cell_type": "code",
   "execution_count": 60,
   "metadata": {},
   "outputs": [],
   "source": [
    "X_train_normalized = X_train_normalized.as_matrix()\n",
    "y_train = y_train.as_matrix()"
   ]
  },
  {
   "cell_type": "code",
   "execution_count": 64,
   "metadata": {},
   "outputs": [
    {
     "name": "stdout",
     "output_type": "stream",
     "text": [
      "Epoch 1/5\n",
      "1186028/1186028 [==============================] - 27s 23us/step - loss: 2185.1319 - mean_squared_error: 2185.1319\n",
      "Epoch 2/5\n",
      "1186028/1186028 [==============================] - 26s 22us/step - loss: 2184.0300 - mean_squared_error: 2184.0300\n",
      "Epoch 3/5\n",
      "1186028/1186028 [==============================] - 27s 23us/step - loss: 2182.6603 - mean_squared_error: 2182.6603\n",
      "Epoch 4/5\n",
      "1186028/1186028 [==============================] - 27s 23us/step - loss: 2181.1724 - mean_squared_error: 2181.1724\n",
      "Epoch 5/5\n",
      "1186028/1186028 [==============================] - 27s 23us/step - loss: 2179.6189 - mean_squared_error: 2179.6189\n"
     ]
    },
    {
     "data": {
      "text/plain": [
       "<tensorflow.python.keras.callbacks.History at 0x1a857a15c0>"
      ]
     },
     "execution_count": 64,
     "metadata": {},
     "output_type": "execute_result"
    }
   ],
   "source": [
    "#buidling NN\n",
    "model = keras.Sequential([\n",
    "    keras.layers.Dense(8, activation=tf.nn.relu),\n",
    "    keras.layers.Dense(20, activation=tf.nn.softmax),\n",
    "    keras.layers.Dense(50, activation=tf.nn.softmax),\n",
    "    keras.layers.Dense(1, activation=tf.nn.relu)\n",
    "    ])\n",
    "\n",
    "model.compile(optimizer=tf.train.AdadeltaOptimizer(),\n",
    "              loss ='mean_squared_error',\n",
    "              metrics = ['mse'])\n",
    "model.fit(X_train_normalized, y_train, batch_size= 200, epochs=5)"
   ]
  },
  {
   "cell_type": "code",
   "execution_count": null,
   "metadata": {},
   "outputs": [],
   "source": []
  }
 ],
 "metadata": {
  "kernelspec": {
   "display_name": "Python 3",
   "language": "python",
   "name": "python3"
  },
  "language_info": {
   "codemirror_mode": {
    "name": "ipython",
    "version": 3
   },
   "file_extension": ".py",
   "mimetype": "text/x-python",
   "name": "python",
   "nbconvert_exporter": "python",
   "pygments_lexer": "ipython3",
   "version": "3.6.6"
  }
 },
 "nbformat": 4,
 "nbformat_minor": 2
}
